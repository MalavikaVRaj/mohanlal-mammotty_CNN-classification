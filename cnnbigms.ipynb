{
 "cells": [
  {
   "cell_type": "code",
   "execution_count": 2,
   "id": "43c231bf-4f8b-4ac0-b557-5f646f71a23d",
   "metadata": {},
   "outputs": [
    {
     "name": "stdout",
     "output_type": "stream",
     "text": [
      "Collecting seaborn\n",
      "  Downloading seaborn-0.13.2-py3-none-any.whl.metadata (5.4 kB)\n",
      "Requirement already satisfied: numpy!=1.24.0,>=1.20 in c:\\users\\malav\\appdata\\local\\packages\\pythonsoftwarefoundation.python.3.10_qbz5n2kfra8p0\\localcache\\local-packages\\python310\\site-packages (from seaborn) (1.26.2)\n",
      "Requirement already satisfied: pandas>=1.2 in c:\\users\\malav\\appdata\\local\\packages\\pythonsoftwarefoundation.python.3.10_qbz5n2kfra8p0\\localcache\\local-packages\\python310\\site-packages (from seaborn) (2.1.3)\n",
      "Requirement already satisfied: matplotlib!=3.6.1,>=3.4 in c:\\users\\malav\\appdata\\local\\packages\\pythonsoftwarefoundation.python.3.10_qbz5n2kfra8p0\\localcache\\local-packages\\python310\\site-packages (from seaborn) (3.8.2)\n",
      "Requirement already satisfied: contourpy>=1.0.1 in c:\\users\\malav\\appdata\\local\\packages\\pythonsoftwarefoundation.python.3.10_qbz5n2kfra8p0\\localcache\\local-packages\\python310\\site-packages (from matplotlib!=3.6.1,>=3.4->seaborn) (1.2.0)\n",
      "Requirement already satisfied: cycler>=0.10 in c:\\users\\malav\\appdata\\local\\packages\\pythonsoftwarefoundation.python.3.10_qbz5n2kfra8p0\\localcache\\local-packages\\python310\\site-packages (from matplotlib!=3.6.1,>=3.4->seaborn) (0.12.1)\n",
      "Requirement already satisfied: fonttools>=4.22.0 in c:\\users\\malav\\appdata\\local\\packages\\pythonsoftwarefoundation.python.3.10_qbz5n2kfra8p0\\localcache\\local-packages\\python310\\site-packages (from matplotlib!=3.6.1,>=3.4->seaborn) (4.48.1)\n",
      "Requirement already satisfied: kiwisolver>=1.3.1 in c:\\users\\malav\\appdata\\local\\packages\\pythonsoftwarefoundation.python.3.10_qbz5n2kfra8p0\\localcache\\local-packages\\python310\\site-packages (from matplotlib!=3.6.1,>=3.4->seaborn) (1.4.5)\n",
      "Requirement already satisfied: packaging>=20.0 in c:\\users\\malav\\appdata\\local\\packages\\pythonsoftwarefoundation.python.3.10_qbz5n2kfra8p0\\localcache\\local-packages\\python310\\site-packages (from matplotlib!=3.6.1,>=3.4->seaborn) (23.2)\n",
      "Requirement already satisfied: pillow>=8 in c:\\users\\malav\\appdata\\local\\packages\\pythonsoftwarefoundation.python.3.10_qbz5n2kfra8p0\\localcache\\local-packages\\python310\\site-packages (from matplotlib!=3.6.1,>=3.4->seaborn) (10.2.0)\n",
      "Requirement already satisfied: pyparsing>=2.3.1 in c:\\users\\malav\\appdata\\local\\packages\\pythonsoftwarefoundation.python.3.10_qbz5n2kfra8p0\\localcache\\local-packages\\python310\\site-packages (from matplotlib!=3.6.1,>=3.4->seaborn) (3.1.1)\n",
      "Requirement already satisfied: python-dateutil>=2.7 in c:\\users\\malav\\appdata\\local\\packages\\pythonsoftwarefoundation.python.3.10_qbz5n2kfra8p0\\localcache\\local-packages\\python310\\site-packages (from matplotlib!=3.6.1,>=3.4->seaborn) (2.8.2)\n",
      "Requirement already satisfied: pytz>=2020.1 in c:\\users\\malav\\appdata\\local\\packages\\pythonsoftwarefoundation.python.3.10_qbz5n2kfra8p0\\localcache\\local-packages\\python310\\site-packages (from pandas>=1.2->seaborn) (2023.3.post1)\n",
      "Requirement already satisfied: tzdata>=2022.1 in c:\\users\\malav\\appdata\\local\\packages\\pythonsoftwarefoundation.python.3.10_qbz5n2kfra8p0\\localcache\\local-packages\\python310\\site-packages (from pandas>=1.2->seaborn) (2023.3)\n",
      "Requirement already satisfied: six>=1.5 in c:\\users\\malav\\appdata\\local\\packages\\pythonsoftwarefoundation.python.3.10_qbz5n2kfra8p0\\localcache\\local-packages\\python310\\site-packages (from python-dateutil>=2.7->matplotlib!=3.6.1,>=3.4->seaborn) (1.16.0)\n",
      "Downloading seaborn-0.13.2-py3-none-any.whl (294 kB)\n",
      "   ---------------------------------------- 0.0/294.9 kB ? eta -:--:--\n",
      "   --------------- ------------------------ 112.6/294.9 kB 3.3 MB/s eta 0:00:01\n",
      "   ---------------------------------------- 294.9/294.9 kB 3.6 MB/s eta 0:00:00\n",
      "Installing collected packages: seaborn\n",
      "Successfully installed seaborn-0.13.2\n"
     ]
    }
   ],
   "source": [
    "!pip install seaborn"
   ]
  },
  {
   "cell_type": "code",
   "execution_count": 27,
   "id": "f1a2d6ce-1a56-4aa5-86d1-feb44c924334",
   "metadata": {},
   "outputs": [
    {
     "name": "stdout",
     "output_type": "stream",
     "text": [
      "Requirement already satisfied: opencv-python in c:\\users\\malav\\appdata\\local\\packages\\pythonsoftwarefoundation.python.3.10_qbz5n2kfra8p0\\localcache\\local-packages\\python310\\site-packages (4.9.0.80)\n",
      "Requirement already satisfied: numpy>=1.21.2 in c:\\users\\malav\\appdata\\local\\packages\\pythonsoftwarefoundation.python.3.10_qbz5n2kfra8p0\\localcache\\local-packages\\python310\\site-packages (from opencv-python) (1.26.2)\n"
     ]
    }
   ],
   "source": [
    "!pip install opencv-python\n",
    "import cv2"
   ]
  },
  {
   "cell_type": "code",
   "execution_count": 28,
   "id": "fc96c5d8-19ae-482e-a880-e1b4867fa750",
   "metadata": {},
   "outputs": [],
   "source": [
    "from matplotlib import pyplot as plt\n",
    "\n",
    "def cv2_imshow(image):\n",
    "    # Convert image from BGR to RGB format\n",
    "    image_rgb = cv2.cvtColor(image, cv2.COLOR_BGR2RGB)\n",
    "    "
   ]
  },
  {
   "cell_type": "code",
   "execution_count": 29,
   "id": "c05eca19-9ad9-46b5-b826-e3098837f3e8",
   "metadata": {},
   "outputs": [
    {
     "data": {
      "text/plain": [
       "'2.15.0'"
      ]
     },
     "execution_count": 29,
     "metadata": {},
     "output_type": "execute_result"
    }
   ],
   "source": [
    "import tensorflow as tf\n",
    "from tensorflow.keras.models import Sequential\n",
    "from tensorflow.keras.layers import Conv2D, MaxPooling2D, Flatten, Dense\n",
    "from tensorflow.keras.preprocessing.image import ImageDataGenerator\n",
    "import matplotlib.pyplot as plt\n",
    "import seaborn as sns\n",
    "import numpy as np\n",
    "tf.__version__"
   ]
  },
  {
   "cell_type": "code",
   "execution_count": 48,
   "id": "f5d949ef-8439-467b-a624-63c05523c9a0",
   "metadata": {},
   "outputs": [],
   "source": [
    "#path = 'C:\\\\Users\\\\malav\\\\OneDrive\\\\Desktop\\\\bigm\\\\test'"
   ]
  },
  {
   "cell_type": "code",
   "execution_count": 49,
   "id": "a3032c99-b488-443b-9a0b-0d1c311a6bbc",
   "metadata": {},
   "outputs": [],
   "source": [
    "training_generator = ImageDataGenerator(rescale=1./255,\n",
    "                                        rotation_range=7,\n",
    "                                        horizontal_flip=True,\n",
    "                                        zoom_range=0.2)"
   ]
  },
  {
   "cell_type": "code",
   "execution_count": 50,
   "id": "942d5379-7ce3-40a3-8714-f8baa4806abb",
   "metadata": {},
   "outputs": [
    {
     "name": "stdout",
     "output_type": "stream",
     "text": [
      "Found 329 images belonging to 2 classes.\n"
     ]
    }
   ],
   "source": [
    "train_dataset = training_generator.flow_from_directory('C:\\\\Users\\\\malav\\\\OneDrive\\\\Desktop\\\\bigm\\\\train',\n",
    "                                                        target_size = (64, 64),\n",
    "                                                        batch_size = 8,\n",
    "                                                        class_mode = 'categorical',\n",
    "                                                       shuffle = True)"
   ]
  },
  {
   "cell_type": "code",
   "execution_count": 33,
   "id": "921fd94f-5452-4410-9f6e-2ec964cfff83",
   "metadata": {},
   "outputs": [
    {
     "data": {
      "text/plain": [
       "array([0, 0, 0, 0, 0, 0, 0, 0, 0, 0, 0, 0, 0, 0, 0, 0, 0, 0, 0, 0, 0, 0,\n",
       "       0, 0, 0, 0, 0, 0, 0, 0, 0, 0, 0, 0, 0, 0, 0, 0, 0, 0, 0, 0, 0, 0,\n",
       "       0, 0, 0, 0, 0, 0, 0, 0, 0, 0, 0, 0, 0, 0, 0, 0, 0, 0, 0, 0, 0, 0,\n",
       "       0, 0, 0, 0, 0, 0, 0, 0, 0, 0, 0, 0, 0, 0, 0, 0, 0, 0, 0, 0, 0, 0,\n",
       "       0, 0, 0, 0, 0, 0, 0, 0, 0, 0, 0, 0, 0, 0, 0, 0, 0, 0, 0, 0, 0, 0,\n",
       "       0, 0, 0, 0, 0, 0, 0, 0, 0, 0, 0, 0, 0, 0, 0, 0, 0, 0, 0, 0, 0, 0,\n",
       "       0, 0, 0, 0, 0, 0, 0, 0, 0, 0, 0, 0, 0, 0, 0, 0, 0, 0, 0, 0, 0, 0,\n",
       "       0, 0, 0, 0, 0, 0, 0, 0, 0, 0, 0, 0, 0, 0, 0, 0, 0, 0, 0, 0, 0, 0,\n",
       "       0, 0, 0, 0, 0, 0, 0, 0, 0, 0, 0, 0, 0, 0, 0, 0, 0, 0, 0, 0, 0, 0,\n",
       "       0, 0, 0, 0, 0, 0, 0, 0, 0, 0, 0, 0, 0, 0, 0, 0, 0, 0, 0, 0, 0, 0,\n",
       "       0, 0, 0, 0, 0, 0, 0, 0, 0, 0, 0, 0, 0, 0, 0, 0, 0, 0, 0, 0, 0, 0,\n",
       "       0, 0, 0, 0, 0, 0, 0, 0, 0, 0, 0, 0, 0, 0, 0, 0, 0, 0, 0, 0, 0, 0,\n",
       "       0, 0, 0, 0, 0, 0, 0, 0, 0, 0, 0, 0, 0, 0, 0, 0, 0, 0, 0, 0, 0, 0,\n",
       "       0, 0, 0, 0, 0, 0, 0, 0, 0, 0, 0, 0, 0, 0, 0, 0, 0, 0, 0, 0, 0, 0,\n",
       "       0, 0, 0, 0, 0, 0, 0, 0, 0, 0, 0, 0, 0, 0, 0, 0, 0, 0, 0, 0, 0, 0,\n",
       "       0, 0, 0, 0, 0, 0, 0, 0, 0, 0, 0, 0, 0, 0, 0, 0, 0, 0, 1, 1, 1, 1,\n",
       "       1, 1, 1, 1, 1, 1, 1, 1, 1, 1, 1, 1, 1, 1, 1, 1, 1, 1, 1, 1, 1, 1,\n",
       "       1, 1, 1, 1, 1, 1, 1, 1, 1, 1, 1, 1, 1, 1, 1, 1, 1, 1, 1, 1, 1, 1,\n",
       "       1, 1, 1, 1, 1, 1, 1, 1, 1, 1, 1, 1, 1, 1, 1, 1, 1, 1, 1, 1, 1, 1,\n",
       "       1, 1, 1, 1, 1, 1, 1, 1, 1, 1, 1, 1, 1, 1, 1, 1, 1, 1, 1, 1, 1, 1,\n",
       "       1, 1, 1, 1, 1, 1, 1, 1, 1, 1, 1, 1, 1, 1, 1, 1, 1, 1, 1, 1, 1, 1,\n",
       "       1, 1, 1, 1, 1, 1, 1, 1, 1, 1, 1, 1, 1, 1, 1, 1, 1, 1, 1, 1, 1, 1,\n",
       "       1, 1, 1, 1, 1, 1, 1, 1, 1, 1, 1, 1, 1, 1, 1, 1, 1, 1, 1, 1, 1, 1,\n",
       "       1, 1, 1, 1, 1, 1, 1, 1, 1, 1, 1, 1, 1, 1, 1, 1, 1, 1, 1, 1, 1, 1,\n",
       "       1, 1, 1, 1, 1, 1, 1, 1, 1, 1, 1, 1, 1, 1, 1, 1, 1, 1, 1, 1, 1, 1,\n",
       "       1, 1, 1, 1, 1, 1, 1, 1, 1, 1, 1, 1, 1, 1, 1, 1, 1, 1, 1, 1, 1, 1,\n",
       "       1, 1, 1, 1, 1, 1, 1, 1, 1, 1, 1, 1, 1, 1, 1, 1, 1, 1, 1, 1, 1, 1,\n",
       "       1, 1, 1, 1, 1, 1, 1, 1, 1, 1, 1, 1, 1, 1, 1, 1, 1, 1, 1, 1, 1, 1,\n",
       "       1, 1, 1, 1, 1, 1, 1, 1, 1, 1, 1, 1, 1, 1, 1, 1, 1, 1, 1, 1, 1, 1,\n",
       "       1, 1, 1, 1, 1, 1, 1, 1, 1, 1, 1, 1, 1, 1, 1, 1, 1, 1, 1, 1, 1, 1,\n",
       "       1, 1, 1, 1, 1, 1, 1, 1, 1, 1, 1, 1, 1, 1, 1, 1, 1, 1, 1, 1, 1, 1,\n",
       "       1, 1, 1, 1, 1, 1, 1, 1, 1, 1, 1, 1, 1, 1, 1, 1, 1, 1, 1, 1, 1, 1,\n",
       "       1, 1, 1, 1])"
      ]
     },
     "execution_count": 33,
     "metadata": {},
     "output_type": "execute_result"
    }
   ],
   "source": [
    "train_dataset.classes"
   ]
  },
  {
   "cell_type": "code",
   "execution_count": 51,
   "id": "a3150b27-3b6b-4810-91f3-947378fa063c",
   "metadata": {},
   "outputs": [
    {
     "name": "stdout",
     "output_type": "stream",
     "text": [
      "Found 68 images belonging to 2 classes.\n"
     ]
    }
   ],
   "source": [
    "test_generator = ImageDataGenerator(rescale=1./255)\n",
    "test_dataset = test_generator.flow_from_directory('C:\\\\Users\\\\malav\\\\OneDrive\\\\Desktop\\\\bigm\\\\test',\n",
    "                                                     target_size = (64, 64),\n",
    "                                                     batch_size = 1,\n",
    "                                                     class_mode = 'categorical',\n",
    "                                                     shuffle = False)"
   ]
  },
  {
   "cell_type": "code",
   "execution_count": 52,
   "id": "a7b36372-5c2a-41fa-96fa-9b6b1cf0740a",
   "metadata": {},
   "outputs": [],
   "source": [
    "network=Sequential()\n",
    "network.add(Conv2D(32,(3,3),activation='relu',input_shape=(64,64,3)))\n",
    "network.add(MaxPooling2D(pool_size=(2,2)))\n",
    "\n",
    "network.add(Conv2D(32,(3,3),activation='relu'))\n",
    "network.add(MaxPooling2D(pool_size=(2,2)))\n",
    "\n",
    "network.add(Conv2D(32,(3,3),activation='relu'))\n",
    "network.add(MaxPooling2D(pool_size=(2,2)))\n",
    "\n",
    "network.add(Flatten())\n",
    "\n",
    "network.add(Dense(units=577,activation='relu'))\n",
    "network.add(Dense(units=577,activation='relu'))\n",
    "network.add(Dense(units=2,activation='softmax'))"
   ]
  },
  {
   "cell_type": "code",
   "execution_count": 53,
   "id": "7c920ad3-4512-4224-a06c-1309187d3319",
   "metadata": {},
   "outputs": [
    {
     "name": "stdout",
     "output_type": "stream",
     "text": [
      "Model: \"sequential_2\"\n",
      "_________________________________________________________________\n",
      " Layer (type)                Output Shape              Param #   \n",
      "=================================================================\n",
      " conv2d_6 (Conv2D)           (None, 62, 62, 32)        896       \n",
      "                                                                 \n",
      " max_pooling2d_6 (MaxPoolin  (None, 31, 31, 32)        0         \n",
      " g2D)                                                            \n",
      "                                                                 \n",
      " conv2d_7 (Conv2D)           (None, 29, 29, 32)        9248      \n",
      "                                                                 \n",
      " max_pooling2d_7 (MaxPoolin  (None, 14, 14, 32)        0         \n",
      " g2D)                                                            \n",
      "                                                                 \n",
      " conv2d_8 (Conv2D)           (None, 12, 12, 32)        9248      \n",
      "                                                                 \n",
      " max_pooling2d_8 (MaxPoolin  (None, 6, 6, 32)          0         \n",
      " g2D)                                                            \n",
      "                                                                 \n",
      " flatten_2 (Flatten)         (None, 1152)              0         \n",
      "                                                                 \n",
      " dense_6 (Dense)             (None, 577)               665281    \n",
      "                                                                 \n",
      " dense_7 (Dense)             (None, 577)               333506    \n",
      "                                                                 \n",
      " dense_8 (Dense)             (None, 2)                 1156      \n",
      "                                                                 \n",
      "=================================================================\n",
      "Total params: 1019335 (3.89 MB)\n",
      "Trainable params: 1019335 (3.89 MB)\n",
      "Non-trainable params: 0 (0.00 Byte)\n",
      "_________________________________________________________________\n"
     ]
    }
   ],
   "source": [
    "network.summary()"
   ]
  },
  {
   "cell_type": "code",
   "execution_count": 55,
   "id": "c2be12e6-236d-4e7d-b9a3-2b016472fa66",
   "metadata": {},
   "outputs": [],
   "source": [
    "network.compile(optimizer='Adam', loss='categorical_crossentropy', metrics = ['accuracy'])"
   ]
  },
  {
   "cell_type": "code",
   "execution_count": 58,
   "id": "90593131-7968-4681-b331-9b62772548a8",
   "metadata": {},
   "outputs": [
    {
     "name": "stdout",
     "output_type": "stream",
     "text": [
      "Epoch 1/40\n",
      " 1/42 [..............................] - ETA: 2s - loss: 0.1423 - accuracy: 1.0000"
     ]
    },
    {
     "name": "stderr",
     "output_type": "stream",
     "text": [
      "C:\\Users\\malav\\AppData\\Local\\Temp\\ipykernel_8808\\2852573655.py:1: UserWarning: `Model.fit_generator` is deprecated and will be removed in a future version. Please use `Model.fit`, which supports generators.\n",
      "  history = network.fit_generator(train_dataset, epochs=40)\n"
     ]
    },
    {
     "name": "stdout",
     "output_type": "stream",
     "text": [
      "42/42 [==============================] - 2s 46ms/step - loss: 0.3041 - accuracy: 0.8906\n",
      "Epoch 2/40\n",
      "42/42 [==============================] - 2s 47ms/step - loss: 0.2410 - accuracy: 0.9058\n",
      "Epoch 3/40\n",
      "42/42 [==============================] - 2s 46ms/step - loss: 0.1789 - accuracy: 0.9271\n",
      "Epoch 4/40\n",
      "42/42 [==============================] - 2s 46ms/step - loss: 0.2165 - accuracy: 0.9210\n",
      "Epoch 5/40\n",
      "42/42 [==============================] - 2s 46ms/step - loss: 0.1362 - accuracy: 0.9422\n",
      "Epoch 6/40\n",
      "42/42 [==============================] - 2s 46ms/step - loss: 0.1874 - accuracy: 0.9392\n",
      "Epoch 7/40\n",
      "42/42 [==============================] - 2s 47ms/step - loss: 0.1303 - accuracy: 0.9453\n",
      "Epoch 8/40\n",
      "42/42 [==============================] - 2s 46ms/step - loss: 0.1037 - accuracy: 0.9574\n",
      "Epoch 9/40\n",
      "42/42 [==============================] - 2s 46ms/step - loss: 0.1190 - accuracy: 0.9453\n",
      "Epoch 10/40\n",
      "42/42 [==============================] - 2s 46ms/step - loss: 0.1247 - accuracy: 0.9514\n",
      "Epoch 11/40\n",
      "42/42 [==============================] - 2s 46ms/step - loss: 0.1214 - accuracy: 0.9574\n",
      "Epoch 12/40\n",
      "42/42 [==============================] - 2s 47ms/step - loss: 0.1046 - accuracy: 0.9635\n",
      "Epoch 13/40\n",
      "42/42 [==============================] - 2s 46ms/step - loss: 0.1216 - accuracy: 0.9514\n",
      "Epoch 14/40\n",
      "42/42 [==============================] - 2s 46ms/step - loss: 0.1079 - accuracy: 0.9453\n",
      "Epoch 15/40\n",
      "42/42 [==============================] - 2s 46ms/step - loss: 0.1406 - accuracy: 0.9483\n",
      "Epoch 16/40\n",
      "42/42 [==============================] - 2s 46ms/step - loss: 0.0861 - accuracy: 0.9696\n",
      "Epoch 17/40\n",
      "42/42 [==============================] - 2s 47ms/step - loss: 0.1093 - accuracy: 0.9696\n",
      "Epoch 18/40\n",
      "42/42 [==============================] - 2s 46ms/step - loss: 0.0548 - accuracy: 0.9818\n",
      "Epoch 19/40\n",
      "42/42 [==============================] - 2s 46ms/step - loss: 0.0401 - accuracy: 0.9878\n",
      "Epoch 20/40\n",
      "42/42 [==============================] - 2s 47ms/step - loss: 0.0731 - accuracy: 0.9726\n",
      "Epoch 21/40\n",
      "42/42 [==============================] - 2s 46ms/step - loss: 0.0808 - accuracy: 0.9635\n",
      "Epoch 22/40\n",
      "42/42 [==============================] - 2s 46ms/step - loss: 0.0794 - accuracy: 0.9696\n",
      "Epoch 23/40\n",
      "42/42 [==============================] - 2s 46ms/step - loss: 0.0721 - accuracy: 0.9878\n",
      "Epoch 24/40\n",
      "42/42 [==============================] - 2s 46ms/step - loss: 0.0768 - accuracy: 0.9757\n",
      "Epoch 25/40\n",
      "42/42 [==============================] - 2s 47ms/step - loss: 0.0429 - accuracy: 0.9848\n",
      "Epoch 26/40\n",
      "42/42 [==============================] - 2s 46ms/step - loss: 0.0750 - accuracy: 0.9757\n",
      "Epoch 27/40\n",
      "42/42 [==============================] - 2s 46ms/step - loss: 0.0880 - accuracy: 0.9726\n",
      "Epoch 28/40\n",
      "42/42 [==============================] - 2s 46ms/step - loss: 0.0381 - accuracy: 0.9878\n",
      "Epoch 29/40\n",
      "42/42 [==============================] - 2s 46ms/step - loss: 0.0478 - accuracy: 0.9757\n",
      "Epoch 30/40\n",
      "42/42 [==============================] - 2s 46ms/step - loss: 0.1123 - accuracy: 0.9483\n",
      "Epoch 31/40\n",
      "42/42 [==============================] - 2s 46ms/step - loss: 0.1945 - accuracy: 0.9331\n",
      "Epoch 32/40\n",
      "42/42 [==============================] - 2s 47ms/step - loss: 0.0838 - accuracy: 0.9787\n",
      "Epoch 33/40\n",
      "42/42 [==============================] - 2s 46ms/step - loss: 0.0602 - accuracy: 0.9757\n",
      "Epoch 34/40\n",
      "42/42 [==============================] - 2s 46ms/step - loss: 0.0158 - accuracy: 0.9970\n",
      "Epoch 35/40\n",
      "42/42 [==============================] - 2s 47ms/step - loss: 0.0280 - accuracy: 0.9909\n",
      "Epoch 36/40\n",
      "42/42 [==============================] - 2s 46ms/step - loss: 0.1336 - accuracy: 0.9514\n",
      "Epoch 37/40\n",
      "42/42 [==============================] - 2s 47ms/step - loss: 0.0678 - accuracy: 0.9757\n",
      "Epoch 38/40\n",
      "42/42 [==============================] - 2s 46ms/step - loss: 0.0498 - accuracy: 0.9848\n",
      "Epoch 39/40\n",
      "42/42 [==============================] - 2s 46ms/step - loss: 0.0380 - accuracy: 0.9909\n",
      "Epoch 40/40\n",
      "42/42 [==============================] - 2s 46ms/step - loss: 0.0136 - accuracy: 0.9939\n"
     ]
    }
   ],
   "source": [
    "history = network.fit_generator(train_dataset, epochs=40)"
   ]
  },
  {
   "cell_type": "code",
   "execution_count": 59,
   "id": "f4336ab2-81cc-4b38-918a-71ba940c0a5c",
   "metadata": {},
   "outputs": [
    {
     "data": {
      "text/plain": [
       "{'mamootty': 0, 'mohanlal': 1}"
      ]
     },
     "execution_count": 59,
     "metadata": {},
     "output_type": "execute_result"
    }
   ],
   "source": [
    "test_dataset.class_indices"
   ]
  },
  {
   "cell_type": "code",
   "execution_count": 60,
   "id": "17b20fcb-9211-403e-8677-95aab015786e",
   "metadata": {},
   "outputs": [
    {
     "name": "stdout",
     "output_type": "stream",
     "text": [
      "68/68 [==============================] - 1s 7ms/step\n"
     ]
    },
    {
     "data": {
      "text/plain": [
       "array([[9.99989867e-01, 1.01547348e-05],\n",
       "       [9.99940634e-01, 5.94082521e-05],\n",
       "       [9.93621171e-01, 6.37888117e-03],\n",
       "       [9.99997973e-01, 2.04617777e-06],\n",
       "       [9.99999762e-01, 2.24156594e-07],\n",
       "       [1.00000000e+00, 1.50321089e-09],\n",
       "       [9.99607623e-01, 3.92367248e-04],\n",
       "       [9.99999523e-01, 4.32519954e-07],\n",
       "       [9.99984026e-01, 1.59679294e-05],\n",
       "       [9.93943512e-01, 6.05649734e-03],\n",
       "       [1.00000000e+00, 3.13864419e-08],\n",
       "       [1.00000000e+00, 3.53752383e-09],\n",
       "       [9.99404192e-01, 5.95844176e-04],\n",
       "       [2.80366139e-03, 9.97196317e-01],\n",
       "       [3.03842016e-02, 9.69615817e-01],\n",
       "       [1.00000000e+00, 1.23893795e-11],\n",
       "       [6.03340976e-02, 9.39665914e-01],\n",
       "       [1.29303098e-01, 8.70696902e-01],\n",
       "       [2.98941154e-02, 9.70105827e-01],\n",
       "       [9.62222338e-01, 3.77777070e-02],\n",
       "       [9.99997139e-01, 2.81466555e-06],\n",
       "       [9.99958396e-01, 4.15712457e-05],\n",
       "       [9.99104321e-01, 8.95604433e-04],\n",
       "       [9.99313951e-01, 6.86026237e-04],\n",
       "       [9.98461604e-01, 1.53841451e-03],\n",
       "       [1.32600397e-01, 8.67399633e-01],\n",
       "       [9.97675002e-01, 2.32505752e-03],\n",
       "       [9.99999642e-01, 3.29109156e-07],\n",
       "       [1.62406373e-04, 9.99837518e-01],\n",
       "       [1.08742535e-01, 8.91257465e-01],\n",
       "       [9.38413963e-02, 9.06158566e-01],\n",
       "       [8.54749203e-01, 1.45250812e-01],\n",
       "       [5.40665910e-02, 9.45933342e-01],\n",
       "       [2.24529169e-04, 9.99775469e-01],\n",
       "       [9.33126663e-04, 9.99066889e-01],\n",
       "       [9.99976277e-01, 2.36930573e-05],\n",
       "       [3.13358149e-03, 9.96866405e-01],\n",
       "       [4.26773695e-05, 9.99957323e-01],\n",
       "       [2.24089990e-06, 9.99997735e-01],\n",
       "       [1.66073023e-05, 9.99983430e-01],\n",
       "       [7.57894668e-05, 9.99924183e-01],\n",
       "       [1.14088761e-09, 1.00000000e+00],\n",
       "       [5.16874425e-11, 1.00000000e+00],\n",
       "       [3.74609762e-12, 1.00000000e+00],\n",
       "       [1.74576501e-17, 1.00000000e+00],\n",
       "       [5.96461037e-21, 1.00000000e+00],\n",
       "       [2.32929428e-16, 1.00000000e+00],\n",
       "       [3.29610378e-16, 1.00000000e+00],\n",
       "       [2.70365856e-23, 1.00000000e+00],\n",
       "       [3.51039729e-16, 1.00000000e+00],\n",
       "       [3.34659795e-20, 1.00000000e+00],\n",
       "       [5.41545454e-11, 1.00000000e+00],\n",
       "       [2.32333647e-07, 9.99999762e-01],\n",
       "       [7.05146377e-08, 9.99999881e-01],\n",
       "       [7.34037094e-05, 9.99926567e-01],\n",
       "       [4.36647873e-08, 1.00000000e+00],\n",
       "       [1.89742266e-09, 1.00000000e+00],\n",
       "       [2.76075498e-05, 9.99972343e-01],\n",
       "       [9.50725720e-09, 1.00000000e+00],\n",
       "       [2.41748239e-07, 9.99999762e-01],\n",
       "       [1.40860204e-08, 1.00000000e+00],\n",
       "       [5.26333491e-11, 1.00000000e+00],\n",
       "       [2.14488136e-05, 9.99978542e-01],\n",
       "       [6.70356937e-10, 1.00000000e+00],\n",
       "       [3.82411436e-09, 1.00000000e+00],\n",
       "       [9.90414222e-08, 9.99999881e-01],\n",
       "       [2.19756748e-05, 9.99978065e-01],\n",
       "       [6.03767036e-10, 1.00000000e+00]], dtype=float32)"
      ]
     },
     "execution_count": 60,
     "metadata": {},
     "output_type": "execute_result"
    }
   ],
   "source": [
    "predictions = network.predict(test_dataset)\n",
    "predictions"
   ]
  },
  {
   "cell_type": "code",
   "execution_count": 61,
   "id": "f3b6abd3-e66f-4913-ab24-00cf6f92f80c",
   "metadata": {},
   "outputs": [
    {
     "data": {
      "text/plain": [
       "array([0, 0, 0, 0, 0, 0, 0, 0, 0, 0, 0, 0, 0, 1, 1, 0, 1, 1, 1, 0, 0, 0,\n",
       "       0, 0, 0, 1, 0, 0, 1, 1, 1, 0, 1, 1, 1, 0, 1, 1, 1, 1, 1, 1, 1, 1,\n",
       "       1, 1, 1, 1, 1, 1, 1, 1, 1, 1, 1, 1, 1, 1, 1, 1, 1, 1, 1, 1, 1, 1,\n",
       "       1, 1], dtype=int64)"
      ]
     },
     "execution_count": 61,
     "metadata": {},
     "output_type": "execute_result"
    }
   ],
   "source": [
    "predictions = np.argmax(predictions, axis = 1)\n",
    "predictions"
   ]
  },
  {
   "cell_type": "code",
   "execution_count": 44,
   "id": "759d383c-7860-45e2-b0d8-42e6ed0f2dfb",
   "metadata": {},
   "outputs": [
    {
     "data": {
      "text/plain": [
       "array([0, 0, 0, 0, 0, 0, 0, 0, 0, 0, 0, 0, 0, 0, 0, 0, 0, 0, 0, 0, 0, 0,\n",
       "       0, 0, 0, 0, 0, 0, 0, 0, 0, 0, 0, 0, 0, 0, 0, 0, 0, 0, 0, 0, 0, 0,\n",
       "       0, 0, 0, 0, 0, 0, 0, 0, 0, 0, 0, 0, 0, 0, 0, 0, 0, 0, 0, 0, 0, 0,\n",
       "       0, 0, 0, 0, 0, 0, 0, 0, 0, 0, 0, 0, 0, 0, 0, 0, 0, 0, 0, 0, 0, 0,\n",
       "       0, 0, 0, 0, 0, 0, 0, 0, 0, 0, 0, 0, 0, 0, 0, 0, 0, 0, 0, 0, 0, 0,\n",
       "       0, 0, 0, 0, 0, 0, 0, 0, 0, 0, 0, 0, 0, 0, 0, 0, 0, 0, 0, 0, 0, 0,\n",
       "       0, 0, 0, 0, 0, 0, 0, 0, 0, 0, 0, 0, 0, 0, 0, 0, 0, 0, 0, 0, 0, 0,\n",
       "       0, 0, 0, 0, 0, 0, 0, 0, 0, 0, 0, 0, 0, 0, 0, 0, 0, 0, 0, 0, 0, 0,\n",
       "       0, 0, 0, 0, 0, 0, 0, 0, 0, 0, 0, 0, 0, 0, 0, 0, 0, 0, 0, 0, 0, 0,\n",
       "       0, 0, 0, 0, 0, 0, 0, 0, 0, 0, 0, 0, 0, 0, 0, 0, 0, 0, 0, 0, 0, 0,\n",
       "       0, 0, 0, 0, 0, 0, 0, 0, 0, 0, 0, 0, 0, 0, 0, 0, 0, 0, 0, 0, 0, 0,\n",
       "       0, 0, 0, 0, 0, 0, 0, 0, 0, 0, 0, 0, 0, 0, 0, 0, 0, 0, 0, 0, 0, 0,\n",
       "       0, 0, 0, 0, 0, 0, 0, 0, 0, 0, 0, 0, 0, 0, 0, 0, 0, 0, 0, 0, 0, 0,\n",
       "       0, 0, 0, 0, 0, 0, 0, 0, 0, 0, 0, 0, 0, 0, 0, 0, 0, 0, 0, 0, 0, 0,\n",
       "       0, 0, 0, 0, 0, 0, 0, 0, 0, 0, 0, 0, 0, 0, 0, 0, 0, 0, 0, 0, 0, 0,\n",
       "       0, 0, 0, 0, 0, 0, 0, 0, 0, 0, 0, 0, 0, 0, 0, 0, 0, 0, 1, 1, 1, 1,\n",
       "       1, 1, 1, 1, 1, 1, 1, 1, 1, 1, 1, 1, 1, 1, 1, 1, 1, 1, 1, 1, 1, 1,\n",
       "       1, 1, 1, 1, 1, 1, 1, 1, 1, 1, 1, 1, 1, 1, 1, 1, 1, 1, 1, 1, 1, 1,\n",
       "       1, 1, 1, 1, 1, 1, 1, 1, 1, 1, 1, 1, 1, 1, 1, 1, 1, 1, 1, 1, 1, 1,\n",
       "       1, 1, 1, 1, 1, 1, 1, 1, 1, 1, 1, 1, 1, 1, 1, 1, 1, 1, 1, 1, 1, 1,\n",
       "       1, 1, 1, 1, 1, 1, 1, 1, 1, 1, 1, 1, 1, 1, 1, 1, 1, 1, 1, 1, 1, 1,\n",
       "       1, 1, 1, 1, 1, 1, 1, 1, 1, 1, 1, 1, 1, 1, 1, 1, 1, 1, 1, 1, 1, 1,\n",
       "       1, 1, 1, 1, 1, 1, 1, 1, 1, 1, 1, 1, 1, 1, 1, 1, 1, 1, 1, 1, 1, 1,\n",
       "       1, 1, 1, 1, 1, 1, 1, 1, 1, 1, 1, 1, 1, 1, 1, 1, 1, 1, 1, 1, 1, 1,\n",
       "       1, 1, 1, 1, 1, 1, 1, 1, 1, 1, 1, 1, 1, 1, 1, 1, 1, 1, 1, 1, 1, 1,\n",
       "       1, 1, 1, 1, 1, 1, 1, 1, 1, 1, 1, 1, 1, 1, 1, 1, 1, 1, 1, 1, 1, 1,\n",
       "       1, 1, 1, 1, 1, 1, 1, 1, 1, 1, 1, 1, 1, 1, 1, 1, 1, 1, 1, 1, 1, 1,\n",
       "       1, 1, 1, 1, 1, 1, 1, 1, 1, 1, 1, 1, 1, 1, 1, 1, 1, 1, 1, 1, 1, 1,\n",
       "       1, 1, 1, 1, 1, 1, 1, 1, 1, 1, 1, 1, 1, 1, 1, 1, 1, 1, 1, 1, 1, 1,\n",
       "       1, 1, 1, 1, 1, 1, 1, 1, 1, 1, 1, 1, 1, 1, 1, 1, 1, 1, 1, 1, 1, 1,\n",
       "       1, 1, 1, 1, 1, 1, 1, 1, 1, 1, 1, 1, 1, 1, 1, 1, 1, 1, 1, 1, 1, 1,\n",
       "       1, 1, 1, 1, 1, 1, 1, 1, 1, 1, 1, 1, 1, 1, 1, 1, 1, 1, 1, 1, 1, 1,\n",
       "       1, 1, 1, 1])"
      ]
     },
     "execution_count": 44,
     "metadata": {},
     "output_type": "execute_result"
    }
   ],
   "source": [
    "test_dataset.classes"
   ]
  },
  {
   "cell_type": "code",
   "execution_count": 62,
   "id": "6810489c-5e95-4ee4-b0c9-72ed816dbf04",
   "metadata": {},
   "outputs": [
    {
     "data": {
      "text/plain": [
       "0.8088235294117647"
      ]
     },
     "execution_count": 62,
     "metadata": {},
     "output_type": "execute_result"
    }
   ],
   "source": [
    "from sklearn.metrics import accuracy_score\n",
    "accuracy_score(test_dataset.classes, predictions)"
   ]
  },
  {
   "cell_type": "code",
   "execution_count": 63,
   "id": "89e06169-f3c3-47c3-84fd-4535de5ff5f3",
   "metadata": {},
   "outputs": [
    {
     "name": "stdout",
     "output_type": "stream",
     "text": [
      "              precision    recall  f1-score   support\n",
      "\n",
      "           0       1.00      0.65      0.79        37\n",
      "           1       0.70      1.00      0.83        31\n",
      "\n",
      "    accuracy                           0.81        68\n",
      "   macro avg       0.85      0.82      0.81        68\n",
      "weighted avg       0.87      0.81      0.81        68\n",
      "\n"
     ]
    }
   ],
   "source": [
    "from sklearn.metrics import classification_report\n",
    "print(classification_report(test_dataset.classes, predictions))"
   ]
  },
  {
   "cell_type": "code",
   "execution_count": null,
   "id": "690ccb8c-21f9-4f0f-909a-c919d4c237d4",
   "metadata": {},
   "outputs": [],
   "source": []
  }
 ],
 "metadata": {
  "kernelspec": {
   "display_name": "Python 3 (ipykernel)",
   "language": "python",
   "name": "python3"
  },
  "language_info": {
   "codemirror_mode": {
    "name": "ipython",
    "version": 3
   },
   "file_extension": ".py",
   "mimetype": "text/x-python",
   "name": "python",
   "nbconvert_exporter": "python",
   "pygments_lexer": "ipython3",
   "version": "3.10.11"
  }
 },
 "nbformat": 4,
 "nbformat_minor": 5
}
